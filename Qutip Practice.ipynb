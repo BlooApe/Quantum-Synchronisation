{
 "cells": [
  {
   "cell_type": "code",
   "execution_count": 35,
   "id": "5571cb6b",
   "metadata": {},
   "outputs": [
    {
     "name": "stdout",
     "output_type": "stream",
     "text": [
      "Quantum object: dims = [[5], [1]], shape = (5, 1), type = ket\n",
      "Qobj data =\n",
      "[[1.]\n",
      " [2.]\n",
      " [3.]\n",
      " [4.]\n",
      " [5.]]\n",
      "Quantum object: dims = [[4], [4]], shape = (4, 4), type = oper, isherm = False\n",
      "Qobj data =\n",
      "[[-0.0941815  -0.42190444 -0.78295741 -1.24592116]\n",
      " [-1.02699308 -1.46889962  1.18761614 -0.18760889]\n",
      " [-0.42842774 -1.14286727  0.17580371 -1.85984916]\n",
      " [ 1.52049587  2.18927375 -0.2963006   0.72182152]]\n"
     ]
    }
   ],
   "source": [
    "import qutip \n",
    "from qutip import *\n",
    "import numpy as np\n",
    "import matplotlib.pyplot as plt\n",
    "# Might be worth trying to download packages such as Scipy but we will see later on!\n",
    "\n",
    "x = np.array([1,2,3,4,5])\n",
    "r = np.random.randn(4,4)\n",
    "print(Qobj(x))\n",
    "print(Qobj(r))\n",
    "#The dimensions, shape and input data can all be easily changed depending on what we want to do."
   ]
  },
  {
   "cell_type": "code",
   "execution_count": 26,
   "id": "222dea4f",
   "metadata": {},
   "outputs": [
    {
     "data": {
      "text/plain": [
       "0.14864196494651485"
      ]
     },
     "execution_count": 26,
     "metadata": {},
     "output_type": "execute_result"
    }
   ],
   "source": [
    "n=fock(4,1) # Provides basis vectors in Fock Space\n",
    "destroy(3) # Lowering operator \n",
    "coherent(5,2).dag() #find hermitian conjugate \n",
    "coherent(5,2).tr() # finds trace of matrix / vector\n",
    "\n",
    "#Clearly we can create quantum objects in different basis states. We also have the ability \n",
    "# to easily manipulate them using inbuilt operators!\n",
    "\n"
   ]
  },
  {
   "cell_type": "code",
   "execution_count": 38,
   "id": "23885a0a",
   "metadata": {},
   "outputs": [
    {
     "name": "stdout",
     "output_type": "stream",
     "text": [
      "Quantum object: dims = [[5], [1]], shape = (5, 1), type = ket\n",
      "Qobj data =\n",
      "[[0.]\n",
      " [1.]\n",
      " [0.]\n",
      " [0.]\n",
      " [0.]]\n",
      "Quantum object: dims = [[5], [1]], shape = (5, 1), type = ket\n",
      "Qobj data =\n",
      "[[0.]\n",
      " [0.]\n",
      " [0.]\n",
      " [0.]\n",
      " [2.]]\n",
      "Quantum object: dims = [[5], [1]], shape = (5, 1), type = ket\n",
      "Qobj data =\n",
      "[[0.        ]\n",
      " [0.        ]\n",
      " [0.        ]\n",
      " [2.44948974]\n",
      " [0.        ]]\n"
     ]
    }
   ],
   "source": [
    "vac = fock(5,0) # vaccum state vector within hilbert with number states [0,1,2,3,4]\n",
    "a = destroy(5) # This is the annhilation operator for 5 number states\n",
    "a*vac # we find what we would expect of the annhilation operator acting on the ground state!\n",
    "\n",
    "# Lets see what happens when we apply this to a different number state\n",
    "\n",
    "num= fock(5,3)\n",
    "a*num # This returns us a lowered basis vector multiped by sqrt(3)\n",
    "\n",
    "c = create(5) # creation operator for 5 number states ranging from 0 -> 4 \n",
    "\n",
    "# Again lets see what happens when we apply this to the vaccum state and the 3rd number state!\n",
    "print(c*vac)\n",
    "print(c*num)\n",
    "\n",
    "#We get exactly what we expect, number state raised by one step and multiplied by a constant\n",
    "#It's also possible to use them multiple times e.g\n",
    "\n",
    "print(c**3 * vac) # Clearly has been raised 3 times and multipled by sqrt(6) ( sqrt(2 * 3) )\n",
    "# This is going to be SUPER useful for when we want to investigate the quantum self sustained oscillators \n",
    "#Their master equations are powers of these creation and annihilation operators, nice to see how user friendly it is \n",
    "#to interact with these things.\n",
    "\n",
    "# We can produce superpositions of state \n",
    "ket =( fock(5,0) + fock(5,3)).unit()\n",
    "print(ket)\n"
   ]
  },
  {
   "cell_type": "code",
   "execution_count": 51,
   "id": "af583205",
   "metadata": {},
   "outputs": [
    {
     "name": "stdout",
     "output_type": "stream",
     "text": [
      "Quantum object: dims = [[5], [5]], shape = (5, 5), type = oper, isherm = True\n",
      "Qobj data =\n",
      "[[0. 0. 0. 0. 0.]\n",
      " [0. 0. 0. 0. 0.]\n",
      " [0. 0. 1. 0. 0.]\n",
      " [0. 0. 0. 0. 0.]\n",
      " [0. 0. 0. 0. 0.]]\n",
      "Quantum object: dims = [[5], [5]], shape = (5, 5), type = oper, isherm = True\n",
      "Qobj data =\n",
      "[[0. 0. 0. 0. 0.]\n",
      " [0. 0. 0. 0. 0.]\n",
      " [0. 0. 1. 0. 0.]\n",
      " [0. 0. 0. 0. 0.]\n",
      " [0. 0. 0. 0. 0.]]\n"
     ]
    }
   ],
   "source": [
    "# In our project we're interested in non-equilliberium dynamics and so the master equation using density operators is important\n",
    "# we can construct density operators.\n",
    "\n",
    "ket = fock(5,2) \n",
    "print(ket*ket.dag())\n",
    "# ket2dm takes a bra or ket and transforms it into a density matrix.\n",
    "# This is the inbuilt function way to do what we saw above |n><n|\n",
    "print(ket2dm(ket))\n"
   ]
  },
  {
   "cell_type": "code",
   "execution_count": 34,
   "id": "49cc1714",
   "metadata": {},
   "outputs": [
    {
     "data": {
      "text/plain": [
       "1.0000000000000007"
      ]
     },
     "execution_count": 34,
     "metadata": {},
     "output_type": "execute_result"
    }
   ],
   "source": [
    "#Expectation value\n",
    "vac = fock(5,0)\n",
    "one = fock(5,1)\n",
    "two = fock(5,2)\n",
    "x =( vac + one + two).unit()\n",
    "x2 = 0.5*ket2dm(vac) + 0.3*ket2dm(one) + 0.2*(ket2dm(two))\n",
    "\n",
    "c = create(5)\n",
    "n = num(5)\n",
    "np.testing.assert_almost_equal(expect(n,vac),0) # Raises an error if the two are not equal to a desired amount.\n",
    "np.testing.assert_almost_equal(expect(n,one),1)\n",
    "#As the code runs smoothly we can see that the expectation value of an operator in a given state is what we want\n",
    "#i.e <N>|1 = 1\n",
    "\n",
    "(ket2dm(vac)**2).tr()\n",
    "(ket2dm(x)**2).tr()\n",
    "n_th_a"
   ]
  },
  {
   "cell_type": "code",
   "execution_count": null,
   "id": "3f7ab17f",
   "metadata": {},
   "outputs": [],
   "source": [
    "#Harmonic Oscillator for 10 number states\n",
    "x = 10\n",
    "\n"
   ]
  }
 ],
 "metadata": {
  "kernelspec": {
   "display_name": "Python 3 (ipykernel)",
   "language": "python",
   "name": "python3"
  },
  "language_info": {
   "codemirror_mode": {
    "name": "ipython",
    "version": 3
   },
   "file_extension": ".py",
   "mimetype": "text/x-python",
   "name": "python",
   "nbconvert_exporter": "python",
   "pygments_lexer": "ipython3",
   "version": "3.9.7"
  }
 },
 "nbformat": 4,
 "nbformat_minor": 5
}
