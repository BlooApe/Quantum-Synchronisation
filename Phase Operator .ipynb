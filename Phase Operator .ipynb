{
 "cells": [
  {
   "cell_type": "code",
   "execution_count": 26,
   "id": "ce0de16c",
   "metadata": {},
   "outputs": [],
   "source": [
    "import qutip \n",
    "from qutip import *\n",
    "import numpy as np\n",
    "import matplotlib.pyplot as plt\n",
    "import matplotlib as mpl\n",
    "from matplotlib import cm\n",
    "import scipy.integrate\n",
    "from sympy import integrate, conjugate, pi, oo, sin , cos\n",
    "from sympy import Symbol"
   ]
  },
  {
   "cell_type": "code",
   "execution_count": 27,
   "id": "cac79b05",
   "metadata": {
    "scrolled": true
   },
   "outputs": [
    {
     "data": {
      "text/latex": [
       "Quantum object: dims = [[5], [1]], shape = (5, 1), type = ket\\begin{equation*}\\left(\\begin{array}{*{11}c}0.0\\\\0.0\\\\0.0\\\\1.732\\\\0.0\\\\\\end{array}\\right)\\end{equation*}"
      ],
      "text/plain": [
       "Quantum object: dims = [[5], [1]], shape = (5, 1), type = ket\n",
       "Qobj data =\n",
       "[[0.        ]\n",
       " [0.        ]\n",
       " [0.        ]\n",
       " [1.73205081]\n",
       " [0.        ]]"
      ]
     },
     "execution_count": 27,
     "metadata": {},
     "output_type": "execute_result"
    }
   ],
   "source": [
    "N = 5\n",
    "psi0 =(fock(N,0))\n",
    "a = destroy(N)\n",
    "c = a.dag()\n",
    "\n",
    "phi = phase(N,0)\n",
    "cos_phi = phi.cosm()\n",
    "sin_phi = phi.sinm()\n",
    "\n",
    "commutator(sin_phi,cos_phi, kind = 'normal') #Commutator of sin and cos = 0, we have non-complimentary observables!\n",
    "\n",
    "#expect(cos_phi**2,psi0) # very close to 1/2 which is what we expect.\n",
    "#expect(sin_phi**2,psi0) # same for the sin^2 function.\n",
    "\n",
    "i = complex(0,1)\n",
    "\n",
    "annihilation = ((i*phi).expm())*((num(N)).sqrtm())\n",
    "annihilation*fock(N,2) # returns sqrt(n) * (n-1)th state which is exactly what the annihilation operator should do\n",
    "creation = ((num(N)).sqrtm())*((-i*phi).expm())\n",
    "creation*fock(N,2) # this returns exactly what we would want a creation operator to as well\n",
    "\n",
    "# Confident that this phase operator Phi has the properties that we would want from such an operator \n",
    "# We're using a Pegg-Barnett phase operator instead of SG phase operator."
   ]
  },
  {
   "cell_type": "code",
   "execution_count": 48,
   "id": "a05e7608",
   "metadata": {},
   "outputs": [
    {
     "name": "stderr",
     "output_type": "stream",
     "text": [
      "C:\\Users\\NoahF\\anaconda3\\lib\\site-packages\\numpy\\core\\_asarray.py:102: ComplexWarning: Casting complex values to real discards the imaginary part\n",
      "  return array(a, dtype, copy=False, order=order)\n"
     ]
    },
    {
     "data": {
      "image/png": "[encoded data removed]",
      "text/plain": [
       "<Figure size 432x288 with 1 Axes>"
      ]
     },
     "metadata": {
      "needs_background": "light"
     },
     "output_type": "display_data"
    }
   ],
   "source": [
    "# Now we have confirmed that the phase operator Phi is what we want, lets move onto producing some plots!\n",
    "# To do that we will need to construct the phase distribution function\n",
    "phi_ith = []\n",
    "Phase_Distribution = []\n",
    "N = 5\n",
    "i = complex(0,1)\n",
    "phi = np.linspace ( 0 , 2* np.pi, 250)\n",
    "\n",
    "for z in phi:\n",
    "    phi_ith = []\n",
    "    for n in range(0,N): # This will let us sum from n = [0, ... , N] i.e all energy levels\n",
    "            for m in range(0,N): # This lets us do the same but for m \n",
    "                m_ket = fock(N,m)\n",
    "                n_bra = fock(N,n).dag()\n",
    "                rho = fock_dm(N,0)\n",
    "                exp_factor = np.exp( i * (m-n) * (z))\n",
    "                x = ((2*np.pi) ** (-1)) * (n_bra * rho * m_ket) * (exp_factor)\n",
    "                phi_ith.append(x)\n",
    "    Phase_Distribution.append(np.array(phi_ith).sum())          \n",
    "                \n",
    "# This returns us a scalar value which is what we expect, we can then make this a scalar function of Phi A.K.A the phase distribution.\n",
    "\n",
    "\n",
    "plt.title(\"Phase Distribution\")\n",
    "plt.xlabel(r'$ \\phi $')\n",
    "plt.ylabel(r'$P (\\phi) $') \n",
    "tick_pos= [0, 0.5*np.pi ,np.pi ,1.5*np.pi, 2*np.pi]\n",
    "labels = ['0','$1\\pi/2$', '$\\pi$','$3\\pi/2$' ,'$2\\pi$']\n",
    "plt.xticks(tick_pos, labels)\n",
    "\n",
    "plt.ylim(0,0.2)\n",
    "plt.plot(phi , Phase_Distribution)\n",
    "\n",
    "np.testing.assert_almost_equal(Phase_Distribution[1] * 2 * np.pi , 1) # This is a bit of a cheat as the phase distribution is a flat line \n",
    "\n",
    "\n",
    "#We can see that the \"integral\" of the phase distribution returns unity as expected\n",
    "# Good that we can recreate the results in a pure state.\n",
    "# Need to begin considering how we can extend the density operator rho and numerically integrate the resultant array List1 \n"
   ]
  },
  {
   "cell_type": "code",
   "execution_count": 56,
   "id": "6ec3be60",
   "metadata": {},
   "outputs": [
    {
     "name": "stderr",
     "output_type": "stream",
     "text": [
      "C:\\Users\\NoahF\\anaconda3\\lib\\site-packages\\numpy\\core\\_asarray.py:102: ComplexWarning: Casting complex values to real discards the imaginary part\n",
      "  return array(a, dtype, copy=False, order=order)\n"
     ]
    },
    {
     "data": {
      "text/plain": [
       "[<matplotlib.lines.Line2D at 0x19fc557eca0>]"
      ]
     },
     "execution_count": 56,
     "metadata": {},
     "output_type": "execute_result"
    },
    {
     "data": {
      "image/png": "[encoded data removed]",
      "text/plain": [
       "<Figure size 432x288 with 1 Axes>"
      ]
     },
     "metadata": {
      "needs_background": "light"
     },
     "output_type": "display_data"
    }
   ],
   "source": [
    "#Let's now recreate the phase distributions for the steady state behaviour of the various cases we saw earlier:\n",
    "# Here we have recreated the phase distribution for the Quantum VdP with an external drive, Classical limit (k2 = 0.05*k1)\n",
    "N = 30 \n",
    "psi0 = basis(N,0)\n",
    "a = destroy(N)\n",
    "\n",
    "k1 = 1 \n",
    "k2 = 0.05 * k1 \n",
    "E = k1 \n",
    "D = 0\n",
    "\n",
    "H = D*(a.dag() * a) + (E/2)*(a + a.dag())\n",
    "c1 = np.sqrt(2*k1) * a.dag()\n",
    "c2 = np.sqrt(2*k2) * (a**2)\n",
    "Collapse = [c1 , c2]\n",
    "\n",
    "\n",
    "t0 = 0\n",
    "t_max = 10\n",
    "t_steps = 3000\n",
    "t = np.linspace(t0,t_max,t_steps)\n",
    "\n",
    "\n",
    "results = mesolve(H,psi0,t,Collapse)\n",
    "rho_ss = results.states[(t_steps-1)]\n",
    "\n",
    "Phase_Distribution_2 = []\n",
    "phi_ith_2 = []\n",
    "for z in phi:\n",
    "    phi_ith_2 = []\n",
    "    for n in range(0,N): # This will let us sum from n = [0, ... , N] i.e all energy levels\n",
    "            for m in range(0,N): # This lets us do the same but for m \n",
    "                m_ket = fock(N,m)\n",
    "                n_bra = fock(N,n).dag()\n",
    "                rho = fock_dm(N,0)\n",
    "                exp_factor = np.exp( i * (m-n) * (z))\n",
    "                x = ((2*np.pi) ** (-1)) * (n_bra * rho_ss * m_ket) * (exp_factor)\n",
    "                phi_ith_2.append(x)\n",
    "    Phase_Distribution_2.append(np.array(phi_ith_2).sum()) \n",
    "\n",
    "    \n",
    "plt.title(\"Phase Distribution\")\n",
    "plt.xlabel(r'$ \\phi $')\n",
    "plt.ylabel(r'$P (\\phi) $') \n",
    "tick_pos= [0, 0.5*np.pi ,np.pi ,1.5*np.pi, 2*np.pi]\n",
    "labels = ['0','$1\\pi/2$', '$\\pi$','$3\\pi/2$' ,'$2\\pi$']\n",
    "plt.xticks(tick_pos, labels)\n",
    "\n",
    "plt.ylim(0,0.5)\n",
    "plt.plot(phi , Phase_Distribution_2)\n"
   ]
  },
  {
   "cell_type": "code",
   "execution_count": 59,
   "id": "f75d5e16",
   "metadata": {},
   "outputs": [
    {
     "name": "stderr",
     "output_type": "stream",
     "text": [
      "C:\\Users\\NoahF\\anaconda3\\lib\\site-packages\\numpy\\core\\_asarray.py:102: ComplexWarning: Casting complex values to real discards the imaginary part\n",
      "  return array(a, dtype, copy=False, order=order)\n"
     ]
    },
    {
     "data": {
      "text/plain": [
       "[<matplotlib.lines.Line2D at 0x19fc53dc6d0>]"
      ]
     },
     "execution_count": 59,
     "metadata": {},
     "output_type": "execute_result"
    },
    {
     "data": {
      "image/png": "[encoded data removed]",
      "text/plain": [
       "<Figure size 432x288 with 1 Axes>"
      ]
     },
     "metadata": {
      "needs_background": "light"
     },
     "output_type": "display_data"
    }
   ],
   "source": [
    "#This is the Quantum VdP Oscillator in the quantum limit ( k2  = 20 *k1)\n",
    "\n",
    "N = 30\n",
    "psi0 = basis(N,0)\n",
    "a = destroy(N)\n",
    "\n",
    "k1 = 1 \n",
    "k2 = 20 * k1 \n",
    "E = k1 \n",
    "D = 0\n",
    "\n",
    "H = D*(a.dag() * a) + (E/2)*(a + a.dag())\n",
    "c1 = np.sqrt(2*k1) * a.dag()\n",
    "c2 = np.sqrt(2*k2) * (a**2)\n",
    "Collapse = [c1 , c2]\n",
    "\n",
    "\n",
    "t0 = 0\n",
    "t_max = 10\n",
    "t_steps = 3000\n",
    "t = np.linspace(t0,t_max,t_steps)\n",
    "\n",
    "\n",
    "results = mesolve(H,psi0,t,Collapse)\n",
    "rho_ss = results.states[(t_steps-1)]\n",
    "\n",
    "Phase_Distribution_3 = []\n",
    "phi_ith_3 = []\n",
    "for z in phi:\n",
    "    phi_ith_3 = []\n",
    "    for n in range(0,N): # This will let us sum from n = [0, ... , N] i.e all energy levels\n",
    "            for m in range(0,N): # This lets us do the same but for m \n",
    "                m_ket = fock(N,m)\n",
    "                n_bra = fock(N,n).dag()\n",
    "                rho = fock_dm(N,0)\n",
    "                exp_factor = np.exp( i * (m-n) * (z))\n",
    "                x = ((2*np.pi) ** (-1)) * (n_bra * rho_ss * m_ket) * (exp_factor)\n",
    "                phi_ith_3.append(x)\n",
    "    Phase_Distribution_3.append(np.array(phi_ith_3).sum()) \n",
    "    \n",
    "plt.title(\"Phase Distribution\")\n",
    "plt.xlabel(r'$ \\phi $')\n",
    "plt.ylabel(r'$P (\\phi) $') \n",
    "tick_pos= [0, 0.5*np.pi ,np.pi ,1.5*np.pi, 2*np.pi]\n",
    "labels = ['0','$1\\pi/2$', '$\\pi$','$3\\pi/2$' ,'$2\\pi$']\n",
    "plt.xticks(tick_pos, labels)\n",
    "\n",
    "plt.ylim(0,0.3)\n",
    "plt.plot(phi , Phase_Distribution_3)"
   ]
  },
  {
   "cell_type": "code",
   "execution_count": null,
   "id": "cabc45c6",
   "metadata": {},
   "outputs": [],
   "source": []
  }
 ],
 "metadata": {
  "kernelspec": {
   "display_name": "Python 3 (ipykernel)",
   "language": "python",
   "name": "python3"
  },
  "language_info": {
   "codemirror_mode": {
    "name": "ipython",
    "version": 3
   },
   "file_extension": ".py",
   "mimetype": "text/x-python",
   "name": "python",
   "nbconvert_exporter": "python",
   "pygments_lexer": "ipython3",
   "version": "3.9.7"
  }
 },
 "nbformat": 4,
 "nbformat_minor": 5
}
