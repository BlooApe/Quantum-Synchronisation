{
 "cells": [
  {
   "cell_type": "code",
   "execution_count": 62,
   "id": "ce0de16c",
   "metadata": {},
   "outputs": [],
   "source": [
    "import qutip \n",
    "from qutip import *\n",
    "import numpy as np\n",
    "import matplotlib.pyplot as plt\n",
    "import matplotlib as mpl\n",
    "from matplotlib import cm\n",
    "import scipy as sp\n",
    "from scipy import integrate "
   ]
  },
  {
   "cell_type": "code",
   "execution_count": 137,
   "id": "cac79b05",
   "metadata": {
    "scrolled": true
   },
   "outputs": [
    {
     "data": {
      "text/latex": [
       "Quantum object: dims = [[5], [1]], shape = (5, 1), type = ket\\begin{equation*}\\left(\\begin{array}{*{11}c}0.0\\\\0.0\\\\0.0\\\\1.732\\\\0.0\\\\\\end{array}\\right)\\end{equation*}"
      ],
      "text/plain": [
       "Quantum object: dims = [[5], [1]], shape = (5, 1), type = ket\n",
       "Qobj data =\n",
       "[[0.        ]\n",
       " [0.        ]\n",
       " [0.        ]\n",
       " [1.73205081]\n",
       " [0.        ]]"
      ]
     },
     "execution_count": 137,
     "metadata": {},
     "output_type": "execute_result"
    }
   ],
   "source": [
    "N = 5\n",
    "psi0 =(fock(N,0))\n",
    "a = destroy(N)\n",
    "c = a.dag()\n",
    "\n",
    "phi = phase(N,0)\n",
    "cos_phi = phi.cosm()\n",
    "sin_phi = phi.sinm()\n",
    "\n",
    "commutator(sin_phi,cos_phi, kind = 'normal') #Commutator of sin and cos = 0, we have non-complimentary observables!\n",
    "\n",
    "#expect(cos_phi**2,psi0) # very close to 1/2 which is what we expect.\n",
    "#expect(sin_phi**2,psi0) # same for the sin^2 function.\n",
    "\n",
    "i = complex(0,1)\n",
    "\n",
    "annihilation = ((i*phi).expm())*((num(N)).sqrtm())\n",
    "annihilation*fock(N,2) # returns sqrt(n) * (n-1)th state which is exactly what the annihilation operator should do\n",
    "creation = ((num(N)).sqrtm())*((-i*phi).expm())\n",
    "creation*fock(N,2) # this returns exactly what we would want a creation operator to as well\n",
    "\n",
    "# Confident that this phase operator Phi has the properties that we would want from such an operator \n",
    "# We're using a Pegg-Barnett phase operator instead of SG phase operator."
   ]
  },
  {
   "cell_type": "code",
   "execution_count": 168,
   "id": "a05e7608",
   "metadata": {},
   "outputs": [
    {
     "data": {
      "text/latex": [
       "Quantum object: dims = [[1], [1]], shape = (1, 1), type = bra\\begin{equation*}\\left(\\begin{array}{*{11}c}0.200\\\\\\end{array}\\right)\\end{equation*}"
      ],
      "text/plain": [
       "Quantum object: dims = [[1], [1]], shape = (1, 1), type = bra\n",
       "Qobj data =\n",
       "[[0.2]]"
      ]
     },
     "execution_count": 168,
     "metadata": {},
     "output_type": "execute_result"
    }
   ],
   "source": [
    "# Now we have confirmed that the phase operator Phi is what we want, lets move onto producing some plots!\n",
    "\n",
    "rho = psi0 * psi0.dag()\n",
    "\n",
    "p = phase_basis(N,0)\n",
    "\n",
    "p.dag() * fock_dm(N,0) * p\n",
    "\n"
   ]
  },
  {
   "cell_type": "code",
   "execution_count": null,
   "id": "8f400fb0",
   "metadata": {},
   "outputs": [],
   "source": []
  },
  {
   "cell_type": "code",
   "execution_count": null,
   "id": "369b0e61",
   "metadata": {},
   "outputs": [],
   "source": []
  }
 ],
 "metadata": {
  "kernelspec": {
   "display_name": "Python 3 (ipykernel)",
   "language": "python",
   "name": "python3"
  },
  "language_info": {
   "codemirror_mode": {
    "name": "ipython",
    "version": 3
   },
   "file_extension": ".py",
   "mimetype": "text/x-python",
   "name": "python",
   "nbconvert_exporter": "python",
   "pygments_lexer": "ipython3",
   "version": "3.9.7"
  }
 },
 "nbformat": 4,
 "nbformat_minor": 5
}
